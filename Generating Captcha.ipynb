{
 "cells": [
  {
   "cell_type": "code",
   "execution_count": 8,
   "id": "5b25be22",
   "metadata": {},
   "outputs": [
    {
     "name": "stdout",
     "output_type": "stream",
     "text": [
      "Generated captcha: aZfkhF\n",
      "Please enter the captcha shown below: aZfkhF\n",
      "Captcha verification is successful\n"
     ]
    }
   ],
   "source": [
    "#Project 2\n",
    "#Generating Randam Captcha \n",
    "\n",
    "\n",
    "import random\n",
    "import string\n",
    "\n",
    "def generate_captcha():\n",
    "    captcha_length = 6\n",
    "    captcha = generate_random_string(captcha_length)\n",
    "    return captcha\n",
    "\n",
    "def generate_random_string(length):\n",
    "    characters = string.ascii_letters + string.digits\n",
    "    return ''.join(random.choice(characters) for _ in range(length))\n",
    "\n",
    "def verify_user_input(captcha, user_input):\n",
    "    if captcha == user_input:\n",
    "        return True\n",
    "    else:\n",
    "        return False\n",
    "\n",
    "captcha = generate_captcha()\n",
    "print(\"Generated captcha:\", captcha)\n",
    "user_input = input(\"Please enter the captcha shown below: \")\n",
    "if verify_user_input(captcha, user_input):\n",
    "    print(\"Captcha verification is successful\")\n",
    "else:\n",
    "    print(\"Captcha verification failed - Please try again\")\n"
   ]
  },
  {
   "cell_type": "code",
   "execution_count": null,
   "id": "60d21661",
   "metadata": {},
   "outputs": [],
   "source": [
    "\n"
   ]
  }
 ],
 "metadata": {
  "kernelspec": {
   "display_name": "Python 3 (ipykernel)",
   "language": "python",
   "name": "python3"
  },
  "language_info": {
   "codemirror_mode": {
    "name": "ipython",
    "version": 3
   },
   "file_extension": ".py",
   "mimetype": "text/x-python",
   "name": "python",
   "nbconvert_exporter": "python",
   "pygments_lexer": "ipython3",
   "version": "3.9.13"
  }
 },
 "nbformat": 4,
 "nbformat_minor": 5
}
